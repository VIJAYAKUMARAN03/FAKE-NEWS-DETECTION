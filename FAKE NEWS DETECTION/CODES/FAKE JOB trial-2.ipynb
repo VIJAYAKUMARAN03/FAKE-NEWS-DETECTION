{
 "cells": [
  {
   "cell_type": "code",
   "execution_count": 116,
   "id": "d229d117",
   "metadata": {},
   "outputs": [],
   "source": [
    "import numpy as np\n",
    "import pandas as pd\n",
    "import itertools\n",
    "from sklearn.model_selection import train_test_split\n",
    "from sklearn.feature_extraction.text import TfidfVectorizer\n",
    "from sklearn.linear_model import PassiveAggressiveClassifier\n",
    "from sklearn.metrics import accuracy_score, confusion_matrix, precision_score, recall_score,f1_score"
   ]
  },
  {
   "cell_type": "code",
   "execution_count": 117,
   "id": "f0bb18c2",
   "metadata": {},
   "outputs": [
    {
     "data": {
      "text/html": [
       "<div>\n",
       "<style scoped>\n",
       "    .dataframe tbody tr th:only-of-type {\n",
       "        vertical-align: middle;\n",
       "    }\n",
       "\n",
       "    .dataframe tbody tr th {\n",
       "        vertical-align: top;\n",
       "    }\n",
       "\n",
       "    .dataframe thead th {\n",
       "        text-align: right;\n",
       "    }\n",
       "</style>\n",
       "<table border=\"1\" class=\"dataframe\">\n",
       "  <thead>\n",
       "    <tr style=\"text-align: right;\">\n",
       "      <th></th>\n",
       "      <th>Unnamed: 0</th>\n",
       "      <th>title</th>\n",
       "      <th>text</th>\n",
       "      <th>label</th>\n",
       "    </tr>\n",
       "  </thead>\n",
       "  <tbody>\n",
       "    <tr>\n",
       "      <th>0</th>\n",
       "      <td>8476</td>\n",
       "      <td>You Can Smell Hillary’s Fear</td>\n",
       "      <td>Daniel Greenfield, a Shillman Journalism Fello...</td>\n",
       "      <td>FAKE</td>\n",
       "    </tr>\n",
       "    <tr>\n",
       "      <th>1</th>\n",
       "      <td>10294</td>\n",
       "      <td>Watch The Exact Moment Paul Ryan Committed Pol...</td>\n",
       "      <td>Google Pinterest Digg Linkedin Reddit Stumbleu...</td>\n",
       "      <td>FAKE</td>\n",
       "    </tr>\n",
       "    <tr>\n",
       "      <th>2</th>\n",
       "      <td>3608</td>\n",
       "      <td>Kerry to go to Paris in gesture of sympathy</td>\n",
       "      <td>U.S. Secretary of State John F. Kerry said Mon...</td>\n",
       "      <td>REAL</td>\n",
       "    </tr>\n",
       "    <tr>\n",
       "      <th>3</th>\n",
       "      <td>10142</td>\n",
       "      <td>Bernie supporters on Twitter erupt in anger ag...</td>\n",
       "      <td>— Kaydee King (@KaydeeKing) November 9, 2016 T...</td>\n",
       "      <td>FAKE</td>\n",
       "    </tr>\n",
       "    <tr>\n",
       "      <th>4</th>\n",
       "      <td>875</td>\n",
       "      <td>The Battle of New York: Why This Primary Matters</td>\n",
       "      <td>It's primary day in New York and front-runners...</td>\n",
       "      <td>REAL</td>\n",
       "    </tr>\n",
       "  </tbody>\n",
       "</table>\n",
       "</div>"
      ],
      "text/plain": [
       "   Unnamed: 0                                              title  \\\n",
       "0        8476                       You Can Smell Hillary’s Fear   \n",
       "1       10294  Watch The Exact Moment Paul Ryan Committed Pol...   \n",
       "2        3608        Kerry to go to Paris in gesture of sympathy   \n",
       "3       10142  Bernie supporters on Twitter erupt in anger ag...   \n",
       "4         875   The Battle of New York: Why This Primary Matters   \n",
       "\n",
       "                                                text label  \n",
       "0  Daniel Greenfield, a Shillman Journalism Fello...  FAKE  \n",
       "1  Google Pinterest Digg Linkedin Reddit Stumbleu...  FAKE  \n",
       "2  U.S. Secretary of State John F. Kerry said Mon...  REAL  \n",
       "3  — Kaydee King (@KaydeeKing) November 9, 2016 T...  FAKE  \n",
       "4  It's primary day in New York and front-runners...  REAL  "
      ]
     },
     "execution_count": 117,
     "metadata": {},
     "output_type": "execute_result"
    }
   ],
   "source": [
    "#Read the data\n",
    "df=pd.read_csv(r'E:\\SEM 4\\AML\\PROJECT\\DATASET\\archive (4)\\fake_or_real_news.csv')\n",
    "\n",
    "#Get shape and head\n",
    "df.shape\n",
    "df.head()"
   ]
  },
  {
   "cell_type": "code",
   "execution_count": 118,
   "id": "437c7f6d",
   "metadata": {},
   "outputs": [
    {
     "name": "stdout",
     "output_type": "stream",
     "text": [
      "<class 'pandas.core.frame.DataFrame'>\n",
      "RangeIndex: 6335 entries, 0 to 6334\n",
      "Data columns (total 4 columns):\n",
      " #   Column      Non-Null Count  Dtype \n",
      "---  ------      --------------  ----- \n",
      " 0   Unnamed: 0  6335 non-null   int64 \n",
      " 1   title       6335 non-null   object\n",
      " 2   text        6335 non-null   object\n",
      " 3   label       6335 non-null   object\n",
      "dtypes: int64(1), object(3)\n",
      "memory usage: 198.1+ KB\n"
     ]
    }
   ],
   "source": [
    "df.info()"
   ]
  },
  {
   "cell_type": "code",
   "execution_count": 119,
   "id": "c65dac5d",
   "metadata": {},
   "outputs": [
    {
     "data": {
      "text/plain": [
       "REAL    3171\n",
       "FAKE    3164\n",
       "Name: label, dtype: int64"
      ]
     },
     "execution_count": 119,
     "metadata": {},
     "output_type": "execute_result"
    }
   ],
   "source": [
    "df.label.value_counts()"
   ]
  },
  {
   "cell_type": "code",
   "execution_count": 120,
   "id": "7cda55fd",
   "metadata": {},
   "outputs": [
    {
     "data": {
      "text/plain": [
       "Unnamed: 0    0\n",
       "title         0\n",
       "text          0\n",
       "label         0\n",
       "dtype: int64"
      ]
     },
     "execution_count": 120,
     "metadata": {},
     "output_type": "execute_result"
    }
   ],
   "source": [
    "df.isnull().sum()"
   ]
  },
  {
   "cell_type": "code",
   "execution_count": 121,
   "id": "0908b8a9",
   "metadata": {},
   "outputs": [
    {
     "data": {
      "text/plain": [
       "0    FAKE\n",
       "1    FAKE\n",
       "2    REAL\n",
       "3    FAKE\n",
       "4    REAL\n",
       "Name: label, dtype: object"
      ]
     },
     "execution_count": 121,
     "metadata": {},
     "output_type": "execute_result"
    }
   ],
   "source": [
    "#DataFlair - Get the labels\n",
    "labels=df.label\n",
    "labels.head()"
   ]
  },
  {
   "cell_type": "code",
   "execution_count": 122,
   "id": "40415ee8",
   "metadata": {},
   "outputs": [
    {
     "data": {
      "text/plain": [
       "0       You Can Smell Hillary’s Fear\\nDaniel Greenfiel...\n",
       "1       Watch The Exact Moment Paul Ryan Committed Pol...\n",
       "2       Kerry to go to Paris in gesture of sympathy\\nU...\n",
       "3       Bernie supporters on Twitter erupt in anger ag...\n",
       "4       The Battle of New York: Why This Primary Matte...\n",
       "                              ...                        \n",
       "6330    State Department says it can't find emails fro...\n",
       "6331    The ‘P’ in PBS Should Stand for ‘Plutocratic’ ...\n",
       "6332    Anti-Trump Protesters Are Tools of the Oligarc...\n",
       "6333    In Ethiopia, Obama seeks progress on peace, se...\n",
       "6334    Jeb Bush Is Suddenly Attacking Trump. Here's W...\n",
       "Length: 6335, dtype: object"
      ]
     },
     "execution_count": 122,
     "metadata": {},
     "output_type": "execute_result"
    }
   ],
   "source": [
    "df1 = df['title'] +\"\\n\"+ df['text']\n",
    "df1"
   ]
  },
  {
   "cell_type": "code",
   "execution_count": 123,
   "id": "4ee3ea67",
   "metadata": {},
   "outputs": [],
   "source": [
    "x_train,x_test,y_train,y_test=train_test_split(df['text'], labels, test_size=0.2, random_state=7)"
   ]
  },
  {
   "cell_type": "code",
   "execution_count": 126,
   "id": "b5b708c3",
   "metadata": {},
   "outputs": [
    {
     "data": {
      "text/plain": [
       "<5068x61651 sparse matrix of type '<class 'numpy.float64'>'\n",
       "\twith 1337098 stored elements in Compressed Sparse Row format>"
      ]
     },
     "execution_count": 126,
     "metadata": {},
     "output_type": "execute_result"
    }
   ],
   "source": [
    "tfidf_vectorizer = TfidfVectorizer(stop_words='english', max_df =0.9)\n",
    "tfidf_train = tfidf_vectorizer.fit_transform(x_train)\n",
    "tfidf_test = tfidf_vectorizer.transform(x_test)\n",
    "tfidf_train"
   ]
  },
  {
   "cell_type": "code",
   "execution_count": 127,
   "id": "23b137e6",
   "metadata": {},
   "outputs": [],
   "source": [
    "pac=PassiveAggressiveClassifier(max_iter=50)\n",
    "pac.fit(tfidf_train,y_train)\n",
    "y_pred=pac.predict(tfidf_test)\n",
    "acc_score=accuracy_score(y_test,y_pred)\n",
    "pre_score = precision_score(y_test,y_pred, pos_label=\"FAKE\")\n",
    "recall = recall_score(y_test,y_pred,pos_label=\"FAKE\")\n",
    "f1 = f1_score(y_test,y_pred,pos_label=\"FAKE\")"
   ]
  },
  {
   "cell_type": "code",
   "execution_count": 128,
   "id": "e64005ad",
   "metadata": {},
   "outputs": [
    {
     "name": "stdout",
     "output_type": "stream",
     "text": [
      "Confusion matrix : \n",
      " [[588  50]\n",
      " [ 42 587]]\n",
      "Accuracy : 92.74%\n",
      "Precision : 93.33%\n",
      "Recall : 92.16%\n",
      "f1_score : 92.74%\n"
     ]
    }
   ],
   "source": [
    "print(\"Confusion matrix : \\n\",confusion_matrix(y_test,y_pred, labels=['FAKE','REAL']))\n",
    "print(f'Accuracy : {round(acc_score*100,2)}%')\n",
    "print(f'Precision : {round((pre_score)*100,2)}%')\n",
    "print(f'Recall : {round((recall)*100,2)}%')\n",
    "print(f'f1_score : {round((f1)*100,2)}%')"
   ]
  },
  {
   "cell_type": "code",
   "execution_count": 129,
   "id": "9fadeb12",
   "metadata": {},
   "outputs": [],
   "source": [
    "#DECISION TREE\n",
    "from sklearn.tree import DecisionTreeClassifier\n",
    "Dt = DecisionTreeClassifier(criterion = 'entropy')\n",
    "Dt.fit(tfidf_train,y_train)\n",
    "y_pred = Dt.predict(tfidf_test)\n",
    "acc_score=accuracy_score(y_test,y_pred)\n",
    "pre_score = precision_score(y_test,y_pred, pos_label=\"FAKE\")\n",
    "recall = recall_score(y_test,y_pred,pos_label=\"FAKE\")\n",
    "f1 = f1_score(y_test,y_pred,pos_label=\"FAKE\")"
   ]
  },
  {
   "cell_type": "code",
   "execution_count": 130,
   "id": "c5121885",
   "metadata": {},
   "outputs": [
    {
     "name": "stdout",
     "output_type": "stream",
     "text": [
      "Confusion matrix : \n",
      " [[523 115]\n",
      " [117 512]]\n",
      "Accuracy : 81.69%\n",
      "Precision : 81.72%\n",
      "Recall : 81.97%\n",
      "f1_score : 81.85%\n"
     ]
    }
   ],
   "source": [
    "print(\"Confusion matrix : \\n\",confusion_matrix(y_test,y_pred, labels=['FAKE','REAL']))\n",
    "print(f'Accuracy : {round(acc_score*100,2)}%')\n",
    "print(f'Precision : {round((pre_score)*100,2)}%')\n",
    "print(f'Recall : {round((recall)*100,2)}%')\n",
    "print(f'f1_score : {round((f1)*100,2)}%')"
   ]
  },
  {
   "cell_type": "code",
   "execution_count": 131,
   "id": "256e65f2",
   "metadata": {},
   "outputs": [],
   "source": [
    "#KNN\n",
    "from sklearn.neighbors import KNeighborsClassifier\n",
    "knn = KNeighborsClassifier(n_neighbors=7)\n",
    "knn.fit(tfidf_train,y_train)\n",
    "y_pred = knn.predict(tfidf_test)\n",
    "acc_score=accuracy_score(y_test,y_pred)\n",
    "pre_score = precision_score(y_test,y_pred, pos_label=\"FAKE\")\n",
    "recall = recall_score(y_test,y_pred,pos_label=\"FAKE\")\n",
    "f1 = f1_score(y_test,y_pred,pos_label=\"FAKE\")"
   ]
  },
  {
   "cell_type": "code",
   "execution_count": 132,
   "id": "4b522727",
   "metadata": {},
   "outputs": [
    {
     "name": "stdout",
     "output_type": "stream",
     "text": [
      "Confusion matrix : \n",
      " [[638   0]\n",
      " [567  62]]\n",
      "Accuracy : 55.25%\n",
      "Precision : 52.95%\n",
      "Recall : 100.0%\n",
      "f1_score : 69.23%\n"
     ]
    }
   ],
   "source": [
    "print(\"Confusion matrix : \\n\",confusion_matrix(y_test,y_pred, labels=['FAKE','REAL']))\n",
    "print(f'Accuracy : {round(acc_score*100,2)}%')\n",
    "print(f'Precision : {round((pre_score)*100,2)}%')\n",
    "print(f'Recall : {round((recall)*100,2)}%')\n",
    "print(f'f1_score : {round((f1)*100,2)}%')"
   ]
  },
  {
   "cell_type": "code",
   "execution_count": 133,
   "id": "3d0d7ff4",
   "metadata": {},
   "outputs": [],
   "source": [
    "#LOGISTIC REGRESSION\n",
    "from sklearn import linear_model\n",
    "logr = linear_model.LogisticRegression()\n",
    "logr.fit(tfidf_train,y_train)\n",
    "y_pred = logr.predict(tfidf_test)\n",
    "acc_score=accuracy_score(y_test,y_pred)\n",
    "pre_score = precision_score(y_test,y_pred, pos_label=\"FAKE\")\n",
    "recall = recall_score(y_test,y_pred,pos_label=\"FAKE\")\n",
    "f1 = f1_score(y_test,y_pred,pos_label=\"FAKE\")"
   ]
  },
  {
   "cell_type": "code",
   "execution_count": 134,
   "id": "d3589495",
   "metadata": {},
   "outputs": [
    {
     "name": "stdout",
     "output_type": "stream",
     "text": [
      "Confusion matrix : \n",
      " [[600  38]\n",
      " [ 67 562]]\n",
      "Accuracy : 91.71%\n",
      "Precision : 89.96%\n",
      "Recall : 94.04%\n",
      "f1_score : 91.95%\n"
     ]
    }
   ],
   "source": [
    "print(\"Confusion matrix : \\n\",confusion_matrix(y_test,y_pred, labels=['FAKE','REAL']))\n",
    "print(f'Accuracy : {round(acc_score*100,2)}%')\n",
    "print(f'Precision : {round((pre_score)*100,2)}%')\n",
    "print(f'Recall : {round((recall)*100,2)}%')\n",
    "print(f'f1_score : {round((f1)*100,2)}%')"
   ]
  },
  {
   "cell_type": "code",
   "execution_count": 135,
   "id": "ccb0b695",
   "metadata": {},
   "outputs": [],
   "source": [
    "#NAIVE BAYES\n",
    "from sklearn.naive_bayes import GaussianNB\n",
    "gnb = GaussianNB()\n",
    "gnb.fit(tfidf_train.toarray(),y_train)\n",
    "y_pred = gnb.predict(tfidf_test.toarray())\n",
    "acc_score=accuracy_score(y_test,y_pred)\n",
    "pre_score = precision_score(y_test,y_pred, pos_label=\"FAKE\")\n",
    "recall = recall_score(y_test,y_pred,pos_label=\"FAKE\")\n",
    "f1 = f1_score(y_test,y_pred,pos_label=\"FAKE\")"
   ]
  },
  {
   "cell_type": "code",
   "execution_count": 136,
   "id": "e0a26010",
   "metadata": {},
   "outputs": [
    {
     "name": "stdout",
     "output_type": "stream",
     "text": [
      "Confusion matrix : \n",
      " [[512 126]\n",
      " [103 526]]\n",
      "Accuracy : 81.93%\n",
      "Precision : 83.25%\n",
      "Recall : 80.25%\n",
      "f1_score : 81.72%\n"
     ]
    }
   ],
   "source": [
    "print(\"Confusion matrix : \\n\",confusion_matrix(y_test,y_pred, labels=['FAKE','REAL']))\n",
    "print(f'Accuracy : {round(acc_score*100,2)}%')\n",
    "print(f'Precision : {round((pre_score)*100,2)}%')\n",
    "print(f'Recall : {round((recall)*100,2)}%')\n",
    "print(f'f1_score : {round((f1)*100,2)}%')"
   ]
  },
  {
   "cell_type": "code",
   "execution_count": 137,
   "id": "5ad1bcb9",
   "metadata": {},
   "outputs": [],
   "source": [
    "#RANDOM FOREST\n",
    "from sklearn.ensemble import RandomForestClassifier\n",
    "rf = RandomForestClassifier()\n",
    "rf.fit(tfidf_train,y_train)\n",
    "y_pred = rf.predict(tfidf_test)\n",
    "acc_score=accuracy_score(y_test,y_pred)\n",
    "pre_score = precision_score(y_test,y_pred, pos_label=\"FAKE\")\n",
    "recall = recall_score(y_test,y_pred,pos_label=\"FAKE\")\n",
    "f1 = f1_score(y_test,y_pred,pos_label=\"FAKE\")"
   ]
  },
  {
   "cell_type": "code",
   "execution_count": 138,
   "id": "90a11217",
   "metadata": {},
   "outputs": [
    {
     "name": "stdout",
     "output_type": "stream",
     "text": [
      "Confusion matrix : \n",
      " [[584  54]\n",
      " [ 55 574]]\n",
      "Accuracy : 91.4%\n",
      "Precision : 91.39%\n",
      "Recall : 91.54%\n",
      "f1_score : 91.46%\n"
     ]
    }
   ],
   "source": [
    "print(\"Confusion matrix : \\n\",confusion_matrix(y_test,y_pred, labels=['FAKE','REAL']))\n",
    "print(f'Accuracy : {round(acc_score*100,2)}%')\n",
    "print(f'Precision : {round((pre_score)*100,2)}%')\n",
    "print(f'Recall : {round((recall)*100,2)}%')\n",
    "print(f'f1_score : {round((f1)*100,2)}%')"
   ]
  },
  {
   "cell_type": "code",
   "execution_count": 139,
   "id": "bd392812",
   "metadata": {},
   "outputs": [],
   "source": [
    "#SUPPORT VECTOR MACHINE\n",
    "from sklearn import svm\n",
    "svmc = svm.SVC()\n",
    "svmc.fit(tfidf_train,y_train)\n",
    "y_pred = svmc.predict(tfidf_test)\n",
    "acc_score=accuracy_score(y_test,y_pred)\n",
    "pre_score = precision_score(y_test,y_pred, pos_label=\"FAKE\")\n",
    "recall = recall_score(y_test,y_pred,pos_label=\"FAKE\")\n",
    "f1 = f1_score(y_test,y_pred,pos_label=\"FAKE\")"
   ]
  },
  {
   "cell_type": "code",
   "execution_count": 140,
   "id": "151a3a0c",
   "metadata": {},
   "outputs": [
    {
     "name": "stdout",
     "output_type": "stream",
     "text": [
      "Confusion matrix : \n",
      " [[605  33]\n",
      " [ 57 572]]\n",
      "Accuracy : 92.9%\n",
      "Precision : 91.39%\n",
      "Recall : 94.83%\n",
      "f1_score : 93.08%\n"
     ]
    }
   ],
   "source": [
    "print(\"Confusion matrix : \\n\",confusion_matrix(y_test,y_pred, labels=['FAKE','REAL']))\n",
    "print(f'Accuracy : {round(acc_score*100,2)}%')\n",
    "print(f'Precision : {round((pre_score)*100,2)}%')\n",
    "print(f'Recall : {round((recall)*100,2)}%')\n",
    "print(f'f1_score : {round((f1)*100,2)}%')"
   ]
  },
  {
   "cell_type": "code",
   "execution_count": null,
   "id": "01225266",
   "metadata": {},
   "outputs": [],
   "source": []
  }
 ],
 "metadata": {
  "kernelspec": {
   "display_name": "Python 3 (ipykernel)",
   "language": "python",
   "name": "python3"
  },
  "language_info": {
   "codemirror_mode": {
    "name": "ipython",
    "version": 3
   },
   "file_extension": ".py",
   "mimetype": "text/x-python",
   "name": "python",
   "nbconvert_exporter": "python",
   "pygments_lexer": "ipython3",
   "version": "3.9.12"
  }
 },
 "nbformat": 4,
 "nbformat_minor": 5
}
